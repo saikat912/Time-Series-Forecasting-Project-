{
 "cells": [
  {
   "cell_type": "code",
   "execution_count": 1,
   "id": "9a045508-85f7-4843-bfd8-e9da787fd822",
   "metadata": {},
   "outputs": [],
   "source": [
    "import os\n",
    "import numpy as np\n",
    "import pandas as pd\n",
    "import matplotlib.pyplot as plt\n",
    "%matplotlib inline\n",
    "import seaborn as sns\n",
    "sns.set()\n",
    "import warnings\n",
    "warnings.filterwarnings('ignore')\n",
    "from datetime import datetime\n",
    "from numpy import log\n",
    "from pandas import Series"
   ]
  },
  {
   "cell_type": "code",
   "execution_count": 20,
   "id": "d9a9c275-6893-4d74-b354-6b703c4da159",
   "metadata": {},
   "outputs": [
    {
     "data": {
      "text/html": [
       "<div>\n",
       "<style scoped>\n",
       "    .dataframe tbody tr th:only-of-type {\n",
       "        vertical-align: middle;\n",
       "    }\n",
       "\n",
       "    .dataframe tbody tr th {\n",
       "        vertical-align: top;\n",
       "    }\n",
       "\n",
       "    .dataframe thead th {\n",
       "        text-align: right;\n",
       "    }\n",
       "</style>\n",
       "<table border=\"1\" class=\"dataframe\">\n",
       "  <thead>\n",
       "    <tr style=\"text-align: right;\">\n",
       "      <th></th>\n",
       "      <th>Date</th>\n",
       "      <th>Open</th>\n",
       "      <th>High</th>\n",
       "      <th>Low</th>\n",
       "      <th>Close</th>\n",
       "      <th>Adj Close</th>\n",
       "      <th>Volume</th>\n",
       "    </tr>\n",
       "  </thead>\n",
       "  <tbody>\n",
       "    <tr>\n",
       "      <th>0</th>\n",
       "      <td>01-01-2015</td>\n",
       "      <td>489.252289</td>\n",
       "      <td>494.149750</td>\n",
       "      <td>487.026154</td>\n",
       "      <td>493.160370</td>\n",
       "      <td>489.917236</td>\n",
       "      <td>944551</td>\n",
       "    </tr>\n",
       "    <tr>\n",
       "      <th>1</th>\n",
       "      <td>02-01-2015</td>\n",
       "      <td>491.973083</td>\n",
       "      <td>511.909271</td>\n",
       "      <td>491.973083</td>\n",
       "      <td>506.368683</td>\n",
       "      <td>503.038696</td>\n",
       "      <td>4193093</td>\n",
       "    </tr>\n",
       "    <tr>\n",
       "      <th>2</th>\n",
       "      <td>05-01-2015</td>\n",
       "      <td>504.686737</td>\n",
       "      <td>520.417969</td>\n",
       "      <td>501.322815</td>\n",
       "      <td>518.241333</td>\n",
       "      <td>514.833252</td>\n",
       "      <td>6758676</td>\n",
       "    </tr>\n",
       "    <tr>\n",
       "      <th>3</th>\n",
       "      <td>06-01-2015</td>\n",
       "      <td>508.891632</td>\n",
       "      <td>508.891632</td>\n",
       "      <td>493.951874</td>\n",
       "      <td>496.079071</td>\n",
       "      <td>492.816742</td>\n",
       "      <td>7979598</td>\n",
       "    </tr>\n",
       "    <tr>\n",
       "      <th>4</th>\n",
       "      <td>07-01-2015</td>\n",
       "      <td>489.746979</td>\n",
       "      <td>495.089661</td>\n",
       "      <td>484.008514</td>\n",
       "      <td>488.609192</td>\n",
       "      <td>485.395966</td>\n",
       "      <td>9232656</td>\n",
       "    </tr>\n",
       "  </tbody>\n",
       "</table>\n",
       "</div>"
      ],
      "text/plain": [
       "         Date        Open        High         Low       Close   Adj Close  \\\n",
       "0  01-01-2015  489.252289  494.149750  487.026154  493.160370  489.917236   \n",
       "1  02-01-2015  491.973083  511.909271  491.973083  506.368683  503.038696   \n",
       "2  05-01-2015  504.686737  520.417969  501.322815  518.241333  514.833252   \n",
       "3  06-01-2015  508.891632  508.891632  493.951874  496.079071  492.816742   \n",
       "4  07-01-2015  489.746979  495.089661  484.008514  488.609192  485.395966   \n",
       "\n",
       "    Volume  \n",
       "0   944551  \n",
       "1  4193093  \n",
       "2  6758676  \n",
       "3  7979598  \n",
       "4  9232656  "
      ]
     },
     "execution_count": 20,
     "metadata": {},
     "output_type": "execute_result"
    }
   ],
   "source": [
    "# importing dataset\n",
    "df = pd.read_csv('TATAMOTORS.csv')\n",
    "df.head()"
   ]
  },
  {
   "cell_type": "markdown",
   "id": "a57beb20-c2fa-4db3-bcb0-3d17c5b7f4da",
   "metadata": {},
   "source": [
    "# Pre-requisite rule in TSF"
   ]
  },
  {
   "cell_type": "raw",
   "id": "e096b11d-27d2-4a49-9ba1-2ac7f545bf72",
   "metadata": {},
   "source": [
    "1) Ensure that all data are represented as numerical, rather than categorical labels or text\n",
    "\n",
    "2) Verify the correct data types for each columns, ensuring that datetime columns and the target variable are numeric\n",
    "\n",
    "3) Check for any missing data points, if any are found, fill them in using an appropriate imputation method before proceeding with TSF\n",
    "\n",
    "4) Arrange the data in sequential order, with timestamps or indices sorted in ascending order. \n",
    "\n",
    "5) Assess the data for the presence of trend, seasonality, errors or any sudden unexpected changes"
   ]
  },
  {
   "cell_type": "code",
   "execution_count": 22,
   "id": "34204d49-4071-44d0-9478-2ecec8ea353b",
   "metadata": {},
   "outputs": [
    {
     "name": "stdout",
     "output_type": "stream",
     "text": [
      "<class 'pandas.core.frame.DataFrame'>\n",
      "RangeIndex: 2359 entries, 0 to 2358\n",
      "Data columns (total 7 columns):\n",
      " #   Column     Non-Null Count  Dtype  \n",
      "---  ------     --------------  -----  \n",
      " 0   Date       2359 non-null   object \n",
      " 1   Open       2359 non-null   float64\n",
      " 2   High       2359 non-null   float64\n",
      " 3   Low        2359 non-null   float64\n",
      " 4   Close      2359 non-null   float64\n",
      " 5   Adj Close  2359 non-null   float64\n",
      " 6   Volume     2359 non-null   int64  \n",
      "dtypes: float64(5), int64(1), object(1)\n",
      "memory usage: 129.1+ KB\n"
     ]
    }
   ],
   "source": [
    "df.info()"
   ]
  },
  {
   "cell_type": "code",
   "execution_count": 24,
   "id": "544d0aa1-7e71-451a-943c-e7eed9f6a6db",
   "metadata": {},
   "outputs": [],
   "source": [
    "df['Date'] = pd.to_datetime(df['Date'], format='mixed')"
   ]
  },
  {
   "cell_type": "code",
   "execution_count": 26,
   "id": "079a9ff8-21b6-4d0d-8191-68e03a29f19c",
   "metadata": {},
   "outputs": [
    {
     "name": "stdout",
     "output_type": "stream",
     "text": [
      "<class 'pandas.core.frame.DataFrame'>\n",
      "RangeIndex: 2359 entries, 0 to 2358\n",
      "Data columns (total 7 columns):\n",
      " #   Column     Non-Null Count  Dtype         \n",
      "---  ------     --------------  -----         \n",
      " 0   Date       2359 non-null   datetime64[ns]\n",
      " 1   Open       2359 non-null   float64       \n",
      " 2   High       2359 non-null   float64       \n",
      " 3   Low        2359 non-null   float64       \n",
      " 4   Close      2359 non-null   float64       \n",
      " 5   Adj Close  2359 non-null   float64       \n",
      " 6   Volume     2359 non-null   int64         \n",
      "dtypes: datetime64[ns](1), float64(5), int64(1)\n",
      "memory usage: 129.1 KB\n"
     ]
    }
   ],
   "source": [
    "df.info()"
   ]
  },
  {
   "cell_type": "code",
   "execution_count": 28,
   "id": "ce4a854c-eab7-4223-b64f-e00a9c91b7db",
   "metadata": {},
   "outputs": [
    {
     "data": {
      "text/plain": [
       "0"
      ]
     },
     "execution_count": 28,
     "metadata": {},
     "output_type": "execute_result"
    }
   ],
   "source": [
    "df.duplicated().sum()"
   ]
  },
  {
   "cell_type": "code",
   "execution_count": 30,
   "id": "87356456-4c25-480c-a0c8-0bbe52bbaf29",
   "metadata": {},
   "outputs": [
    {
     "data": {
      "text/plain": [
       "Date         0\n",
       "Open         0\n",
       "High         0\n",
       "Low          0\n",
       "Close        0\n",
       "Adj Close    0\n",
       "Volume       0\n",
       "dtype: int64"
      ]
     },
     "execution_count": 30,
     "metadata": {},
     "output_type": "execute_result"
    }
   ],
   "source": [
    "df.isnull().sum()"
   ]
  },
  {
   "cell_type": "markdown",
   "id": "2d891d4b-d8da-4d8b-80b0-ba1aba3e5b73",
   "metadata": {},
   "source": [
    "# Durbin-Watson Test"
   ]
  },
  {
   "cell_type": "code",
   "execution_count": 33,
   "id": "efd3ebec-0ff2-44f7-80c2-ad3260e7e0d7",
   "metadata": {},
   "outputs": [
    {
     "data": {
      "text/plain": [
       "0.0004248381601064135"
      ]
     },
     "execution_count": 33,
     "metadata": {},
     "output_type": "execute_result"
    }
   ],
   "source": [
    "import statsmodels.api as sm\n",
    "sm.stats.durbin_watson(df['Open'])"
   ]
  },
  {
   "cell_type": "code",
   "execution_count": 35,
   "id": "0eee86a8-f70e-4f11-9e65-cb5f1ba8f5e2",
   "metadata": {},
   "outputs": [
    {
     "data": {
      "text/plain": [
       "0.0004477992393896222"
      ]
     },
     "execution_count": 35,
     "metadata": {},
     "output_type": "execute_result"
    }
   ],
   "source": [
    "sm.stats.durbin_watson(df['Close'])"
   ]
  },
  {
   "cell_type": "code",
   "execution_count": 37,
   "id": "e0699bbc-7b36-4e13-ab80-b55a508fa409",
   "metadata": {},
   "outputs": [
    {
     "data": {
      "text/plain": [
       "0.2703755678323774"
      ]
     },
     "execution_count": 37,
     "metadata": {},
     "output_type": "execute_result"
    }
   ],
   "source": [
    "sm.stats.durbin_watson(df['Volume'])"
   ]
  },
  {
   "cell_type": "code",
   "execution_count": 39,
   "id": "fb5b6c79-0eaa-4433-a760-30fb85fee4fc",
   "metadata": {},
   "outputs": [
    {
     "data": {
      "text/html": [
       "<div>\n",
       "<style scoped>\n",
       "    .dataframe tbody tr th:only-of-type {\n",
       "        vertical-align: middle;\n",
       "    }\n",
       "\n",
       "    .dataframe tbody tr th {\n",
       "        vertical-align: top;\n",
       "    }\n",
       "\n",
       "    .dataframe thead th {\n",
       "        text-align: right;\n",
       "    }\n",
       "</style>\n",
       "<table border=\"1\" class=\"dataframe\">\n",
       "  <thead>\n",
       "    <tr style=\"text-align: right;\">\n",
       "      <th></th>\n",
       "      <th>Date</th>\n",
       "      <th>Open</th>\n",
       "      <th>High</th>\n",
       "      <th>Low</th>\n",
       "      <th>Close</th>\n",
       "      <th>Adj Close</th>\n",
       "      <th>Volume</th>\n",
       "    </tr>\n",
       "  </thead>\n",
       "  <tbody>\n",
       "    <tr>\n",
       "      <th>count</th>\n",
       "      <td>2359</td>\n",
       "      <td>2359.000000</td>\n",
       "      <td>2359.000000</td>\n",
       "      <td>2359.000000</td>\n",
       "      <td>2359.000000</td>\n",
       "      <td>2359.000000</td>\n",
       "      <td>2.359000e+03</td>\n",
       "    </tr>\n",
       "    <tr>\n",
       "      <th>mean</th>\n",
       "      <td>2019-10-16 06:01:22.407799808</td>\n",
       "      <td>396.935476</td>\n",
       "      <td>402.071841</td>\n",
       "      <td>390.850512</td>\n",
       "      <td>396.191792</td>\n",
       "      <td>394.019840</td>\n",
       "      <td>2.379846e+07</td>\n",
       "    </tr>\n",
       "    <tr>\n",
       "      <th>min</th>\n",
       "      <td>2015-01-01 00:00:00</td>\n",
       "      <td>66.500000</td>\n",
       "      <td>66.900002</td>\n",
       "      <td>63.500000</td>\n",
       "      <td>65.300003</td>\n",
       "      <td>64.896851</td>\n",
       "      <td>9.445510e+05</td>\n",
       "    </tr>\n",
       "    <tr>\n",
       "      <th>25%</th>\n",
       "      <td>2017-05-30 12:00:00</td>\n",
       "      <td>258.250000</td>\n",
       "      <td>261.700012</td>\n",
       "      <td>252.525002</td>\n",
       "      <td>258.100006</td>\n",
       "      <td>256.506515</td>\n",
       "      <td>7.342951e+06</td>\n",
       "    </tr>\n",
       "    <tr>\n",
       "      <th>50%</th>\n",
       "      <td>2019-10-22 00:00:00</td>\n",
       "      <td>404.549988</td>\n",
       "      <td>409.899994</td>\n",
       "      <td>398.149994</td>\n",
       "      <td>403.649994</td>\n",
       "      <td>401.157928</td>\n",
       "      <td>1.242660e+07</td>\n",
       "    </tr>\n",
       "    <tr>\n",
       "      <th>75%</th>\n",
       "      <td>2022-03-02 12:00:00</td>\n",
       "      <td>481.774994</td>\n",
       "      <td>487.725006</td>\n",
       "      <td>474.674988</td>\n",
       "      <td>481.399994</td>\n",
       "      <td>478.405532</td>\n",
       "      <td>2.733780e+07</td>\n",
       "    </tr>\n",
       "    <tr>\n",
       "      <th>max</th>\n",
       "      <td>2024-12-07 00:00:00</td>\n",
       "      <td>1038.000000</td>\n",
       "      <td>1094.000000</td>\n",
       "      <td>1030.400024</td>\n",
       "      <td>1090.949951</td>\n",
       "      <td>1090.949951</td>\n",
       "      <td>3.905778e+08</td>\n",
       "    </tr>\n",
       "    <tr>\n",
       "      <th>std</th>\n",
       "      <td>NaN</td>\n",
       "      <td>202.390842</td>\n",
       "      <td>203.981276</td>\n",
       "      <td>200.188434</td>\n",
       "      <td>202.152701</td>\n",
       "      <td>201.610486</td>\n",
       "      <td>3.053952e+07</td>\n",
       "    </tr>\n",
       "  </tbody>\n",
       "</table>\n",
       "</div>"
      ],
      "text/plain": [
       "                                Date         Open         High          Low  \\\n",
       "count                           2359  2359.000000  2359.000000  2359.000000   \n",
       "mean   2019-10-16 06:01:22.407799808   396.935476   402.071841   390.850512   \n",
       "min              2015-01-01 00:00:00    66.500000    66.900002    63.500000   \n",
       "25%              2017-05-30 12:00:00   258.250000   261.700012   252.525002   \n",
       "50%              2019-10-22 00:00:00   404.549988   409.899994   398.149994   \n",
       "75%              2022-03-02 12:00:00   481.774994   487.725006   474.674988   \n",
       "max              2024-12-07 00:00:00  1038.000000  1094.000000  1030.400024   \n",
       "std                              NaN   202.390842   203.981276   200.188434   \n",
       "\n",
       "             Close    Adj Close        Volume  \n",
       "count  2359.000000  2359.000000  2.359000e+03  \n",
       "mean    396.191792   394.019840  2.379846e+07  \n",
       "min      65.300003    64.896851  9.445510e+05  \n",
       "25%     258.100006   256.506515  7.342951e+06  \n",
       "50%     403.649994   401.157928  1.242660e+07  \n",
       "75%     481.399994   478.405532  2.733780e+07  \n",
       "max    1090.949951  1090.949951  3.905778e+08  \n",
       "std     202.152701   201.610486  3.053952e+07  "
      ]
     },
     "execution_count": 39,
     "metadata": {},
     "output_type": "execute_result"
    }
   ],
   "source": [
    "df.describe()"
   ]
  },
  {
   "cell_type": "code",
   "execution_count": 41,
   "id": "b89bc0ad-2add-4a24-8d0c-d2c66bb92c25",
   "metadata": {},
   "outputs": [
    {
     "data": {
      "text/plain": [
       "Date         2359\n",
       "Open         1880\n",
       "High         2051\n",
       "Low          2054\n",
       "Close        2117\n",
       "Adj Close    2172\n",
       "Volume       2359\n",
       "dtype: int64"
      ]
     },
     "execution_count": 41,
     "metadata": {},
     "output_type": "execute_result"
    }
   ],
   "source": [
    "df.nunique()"
   ]
  },
  {
   "cell_type": "code",
   "execution_count": 43,
   "id": "5864f958-99b9-47c3-a2dc-c5ca36743c0b",
   "metadata": {},
   "outputs": [
    {
     "data": {
      "text/plain": [
       "<Axes: >"
      ]
     },
     "execution_count": 43,
     "metadata": {},
     "output_type": "execute_result"
    },
    {
     "data": {
      "image/png": "[encoded data removed]",
      "text/plain": [
       "<Figure size 640x480 with 1 Axes>"
      ]
     },
     "metadata": {},
     "output_type": "display_data"
    }
   ],
   "source": [
    "df['Open'].plot()"
   ]
  },
  {
   "cell_type": "code",
   "execution_count": 45,
   "id": "e350cb35-0d35-4c09-b79f-dd4560902252",
   "metadata": {},
   "outputs": [
    {
     "data": {
      "text/html": [
       "<div>\n",
       "<style scoped>\n",
       "    .dataframe tbody tr th:only-of-type {\n",
       "        vertical-align: middle;\n",
       "    }\n",
       "\n",
       "    .dataframe tbody tr th {\n",
       "        vertical-align: top;\n",
       "    }\n",
       "\n",
       "    .dataframe thead th {\n",
       "        text-align: right;\n",
       "    }\n",
       "</style>\n",
       "<table border=\"1\" class=\"dataframe\">\n",
       "  <thead>\n",
       "    <tr style=\"text-align: right;\">\n",
       "      <th></th>\n",
       "      <th>Date</th>\n",
       "      <th>Open</th>\n",
       "      <th>High</th>\n",
       "      <th>Low</th>\n",
       "      <th>Close</th>\n",
       "      <th>Adj Close</th>\n",
       "      <th>Volume</th>\n",
       "      <th>Time_Stamp</th>\n",
       "    </tr>\n",
       "  </thead>\n",
       "  <tbody>\n",
       "    <tr>\n",
       "      <th>0</th>\n",
       "      <td>2015-01-01</td>\n",
       "      <td>489.252289</td>\n",
       "      <td>494.149750</td>\n",
       "      <td>487.026154</td>\n",
       "      <td>493.160370</td>\n",
       "      <td>489.917236</td>\n",
       "      <td>944551</td>\n",
       "      <td>2015-01-01</td>\n",
       "    </tr>\n",
       "    <tr>\n",
       "      <th>1</th>\n",
       "      <td>2015-02-01</td>\n",
       "      <td>491.973083</td>\n",
       "      <td>511.909271</td>\n",
       "      <td>491.973083</td>\n",
       "      <td>506.368683</td>\n",
       "      <td>503.038696</td>\n",
       "      <td>4193093</td>\n",
       "      <td>2015-02-01</td>\n",
       "    </tr>\n",
       "    <tr>\n",
       "      <th>2</th>\n",
       "      <td>2015-05-01</td>\n",
       "      <td>504.686737</td>\n",
       "      <td>520.417969</td>\n",
       "      <td>501.322815</td>\n",
       "      <td>518.241333</td>\n",
       "      <td>514.833252</td>\n",
       "      <td>6758676</td>\n",
       "      <td>2015-05-01</td>\n",
       "    </tr>\n",
       "    <tr>\n",
       "      <th>3</th>\n",
       "      <td>2015-06-01</td>\n",
       "      <td>508.891632</td>\n",
       "      <td>508.891632</td>\n",
       "      <td>493.951874</td>\n",
       "      <td>496.079071</td>\n",
       "      <td>492.816742</td>\n",
       "      <td>7979598</td>\n",
       "      <td>2015-06-01</td>\n",
       "    </tr>\n",
       "    <tr>\n",
       "      <th>4</th>\n",
       "      <td>2015-07-01</td>\n",
       "      <td>489.746979</td>\n",
       "      <td>495.089661</td>\n",
       "      <td>484.008514</td>\n",
       "      <td>488.609192</td>\n",
       "      <td>485.395966</td>\n",
       "      <td>9232656</td>\n",
       "      <td>2015-07-01</td>\n",
       "    </tr>\n",
       "  </tbody>\n",
       "</table>\n",
       "</div>"
      ],
      "text/plain": [
       "        Date        Open        High         Low       Close   Adj Close  \\\n",
       "0 2015-01-01  489.252289  494.149750  487.026154  493.160370  489.917236   \n",
       "1 2015-02-01  491.973083  511.909271  491.973083  506.368683  503.038696   \n",
       "2 2015-05-01  504.686737  520.417969  501.322815  518.241333  514.833252   \n",
       "3 2015-06-01  508.891632  508.891632  493.951874  496.079071  492.816742   \n",
       "4 2015-07-01  489.746979  495.089661  484.008514  488.609192  485.395966   \n",
       "\n",
       "    Volume Time_Stamp  \n",
       "0   944551 2015-01-01  \n",
       "1  4193093 2015-02-01  \n",
       "2  6758676 2015-05-01  \n",
       "3  7979598 2015-06-01  \n",
       "4  9232656 2015-07-01  "
      ]
     },
     "execution_count": 45,
     "metadata": {},
     "output_type": "execute_result"
    }
   ],
   "source": [
    "df['Time_Stamp'] = pd.DataFrame(df, columns=['Date'])\n",
    "df.head()"
   ]
  },
  {
   "cell_type": "code",
   "execution_count": 47,
   "id": "95aae86e-4ad3-4ec2-89c4-8ab362d7e2bc",
   "metadata": {},
   "outputs": [
    {
     "data": {
      "text/html": [
       "<div>\n",
       "<style scoped>\n",
       "    .dataframe tbody tr th:only-of-type {\n",
       "        vertical-align: middle;\n",
       "    }\n",
       "\n",
       "    .dataframe tbody tr th {\n",
       "        vertical-align: top;\n",
       "    }\n",
       "\n",
       "    .dataframe thead th {\n",
       "        text-align: right;\n",
       "    }\n",
       "</style>\n",
       "<table border=\"1\" class=\"dataframe\">\n",
       "  <thead>\n",
       "    <tr style=\"text-align: right;\">\n",
       "      <th></th>\n",
       "      <th>Date</th>\n",
       "      <th>Open</th>\n",
       "      <th>High</th>\n",
       "      <th>Low</th>\n",
       "      <th>Close</th>\n",
       "      <th>Adj Close</th>\n",
       "      <th>Volume</th>\n",
       "    </tr>\n",
       "    <tr>\n",
       "      <th>Time_Stamp</th>\n",
       "      <th></th>\n",
       "      <th></th>\n",
       "      <th></th>\n",
       "      <th></th>\n",
       "      <th></th>\n",
       "      <th></th>\n",
       "      <th></th>\n",
       "    </tr>\n",
       "  </thead>\n",
       "  <tbody>\n",
       "    <tr>\n",
       "      <th>2015-01-01</th>\n",
       "      <td>2015-01-01</td>\n",
       "      <td>489.252289</td>\n",
       "      <td>494.149750</td>\n",
       "      <td>487.026154</td>\n",
       "      <td>493.160370</td>\n",
       "      <td>489.917236</td>\n",
       "      <td>944551</td>\n",
       "    </tr>\n",
       "    <tr>\n",
       "      <th>2015-02-01</th>\n",
       "      <td>2015-02-01</td>\n",
       "      <td>491.973083</td>\n",
       "      <td>511.909271</td>\n",
       "      <td>491.973083</td>\n",
       "      <td>506.368683</td>\n",
       "      <td>503.038696</td>\n",
       "      <td>4193093</td>\n",
       "    </tr>\n",
       "    <tr>\n",
       "      <th>2015-05-01</th>\n",
       "      <td>2015-05-01</td>\n",
       "      <td>504.686737</td>\n",
       "      <td>520.417969</td>\n",
       "      <td>501.322815</td>\n",
       "      <td>518.241333</td>\n",
       "      <td>514.833252</td>\n",
       "      <td>6758676</td>\n",
       "    </tr>\n",
       "    <tr>\n",
       "      <th>2015-06-01</th>\n",
       "      <td>2015-06-01</td>\n",
       "      <td>508.891632</td>\n",
       "      <td>508.891632</td>\n",
       "      <td>493.951874</td>\n",
       "      <td>496.079071</td>\n",
       "      <td>492.816742</td>\n",
       "      <td>7979598</td>\n",
       "    </tr>\n",
       "    <tr>\n",
       "      <th>2015-07-01</th>\n",
       "      <td>2015-07-01</td>\n",
       "      <td>489.746979</td>\n",
       "      <td>495.089661</td>\n",
       "      <td>484.008514</td>\n",
       "      <td>488.609192</td>\n",
       "      <td>485.395966</td>\n",
       "      <td>9232656</td>\n",
       "    </tr>\n",
       "  </tbody>\n",
       "</table>\n",
       "</div>"
      ],
      "text/plain": [
       "                 Date        Open        High         Low       Close  \\\n",
       "Time_Stamp                                                              \n",
       "2015-01-01 2015-01-01  489.252289  494.149750  487.026154  493.160370   \n",
       "2015-02-01 2015-02-01  491.973083  511.909271  491.973083  506.368683   \n",
       "2015-05-01 2015-05-01  504.686737  520.417969  501.322815  518.241333   \n",
       "2015-06-01 2015-06-01  508.891632  508.891632  493.951874  496.079071   \n",
       "2015-07-01 2015-07-01  489.746979  495.089661  484.008514  488.609192   \n",
       "\n",
       "             Adj Close   Volume  \n",
       "Time_Stamp                       \n",
       "2015-01-01  489.917236   944551  \n",
       "2015-02-01  503.038696  4193093  \n",
       "2015-05-01  514.833252  6758676  \n",
       "2015-06-01  492.816742  7979598  \n",
       "2015-07-01  485.395966  9232656  "
      ]
     },
     "execution_count": 47,
     "metadata": {},
     "output_type": "execute_result"
    }
   ],
   "source": [
    "df_final_model = df.set_index('Time_Stamp')\n",
    "df_final_model.head()"
   ]
  },
  {
   "cell_type": "code",
   "execution_count": 49,
   "id": "599e1594-11bd-4d18-bca3-6301d0dfb791",
   "metadata": {},
   "outputs": [
    {
     "name": "stdout",
     "output_type": "stream",
     "text": [
      "<class 'pandas.core.frame.DataFrame'>\n",
      "DatetimeIndex: 2359 entries, 2015-01-01 to 2024-07-25\n",
      "Data columns (total 7 columns):\n",
      " #   Column     Non-Null Count  Dtype         \n",
      "---  ------     --------------  -----         \n",
      " 0   Date       2359 non-null   datetime64[ns]\n",
      " 1   Open       2359 non-null   float64       \n",
      " 2   High       2359 non-null   float64       \n",
      " 3   Low        2359 non-null   float64       \n",
      " 4   Close      2359 non-null   float64       \n",
      " 5   Adj Close  2359 non-null   float64       \n",
      " 6   Volume     2359 non-null   int64         \n",
      "dtypes: datetime64[ns](1), float64(5), int64(1)\n",
      "memory usage: 147.4 KB\n"
     ]
    }
   ],
   "source": [
    "df_final_model.info()"
   ]
  },
  {
   "cell_type": "code",
   "execution_count": 57,
   "id": "ec391730-3995-426e-ad0d-746317ae91e5",
   "metadata": {},
   "outputs": [
    {
     "data": {
      "image/png": "[encoded data removed]",
      "text/plain": [
       "<Figure size 640x480 with 4 Axes>"
      ]
     },
     "metadata": {},
     "output_type": "display_data"
    }
   ],
   "source": [
    "# Decomposition to check dataset\n",
    "from statsmodels.tsa.seasonal import seasonal_decompose\n",
    "decompose = seasonal_decompose(df_final_model['Open'], period=12)\n",
    "decompose.plot()\n",
    "plt.show()"
   ]
  },
  {
   "cell_type": "markdown",
   "id": "a2ddbf96-b416-4023-bd7f-c6438bc4b241",
   "metadata": {},
   "source": [
    "# Plot the boxplot of the 'Open' variable with respect to the different years"
   ]
  },
  {
   "cell_type": "code",
   "execution_count": 64,
   "id": "3f894db0-e711-4f99-8e89-5bbf19f14900",
   "metadata": {},
   "outputs": [
    {
     "data": {
      "image/png": "[encoded data removed]",
      "text/plain": [
       "<Figure size 1500x800 with 1 Axes>"
      ]
     },
     "metadata": {},
     "output_type": "display_data"
    }
   ],
   "source": [
    "plt.figure(figsize=(15,8))\n",
    "sns.boxplot(x=df_final_model.index.year, y = df_final_model['Open'])\n",
    "plt.grid();"
   ]
  },
  {
   "cell_type": "code",
   "execution_count": 62,
   "id": "a3933a62-995d-463f-8cad-6557364a1bc5",
   "metadata": {},
   "outputs": [
    {
     "data": {
      "text/plain": [
       "Index([2015, 2015, 2015, 2015, 2015, 2015, 2015, 2015, 2015, 2015,\n",
       "       ...\n",
       "       2024, 2024, 2024, 2024, 2024, 2024, 2024, 2024, 2024, 2024],\n",
       "      dtype='int32', name='Time_Stamp', length=2359)"
      ]
     },
     "execution_count": 62,
     "metadata": {},
     "output_type": "execute_result"
    }
   ],
   "source": [
    "df_final_model.index.year"
   ]
  },
  {
   "cell_type": "code",
   "execution_count": 68,
   "id": "65805066-8195-4319-babb-8642a3eeed6d",
   "metadata": {},
   "outputs": [
    {
     "data": {
      "image/png": "[encoded data removed]",
      "text/plain": [
       "<Figure size 1500x800 with 1 Axes>"
      ]
     },
     "metadata": {},
     "output_type": "display_data"
    }
   ],
   "source": [
    "plt.figure(figsize=(15,8))\n",
    "sns.boxplot(x=df_final_model.index.month_name(), y = df_final_model['Open'])\n",
    "plt.grid();"
   ]
  },
  {
   "cell_type": "markdown",
   "id": "86ccdd62-9d40-4ceb-b8ad-d9add912feb9",
   "metadata": {},
   "source": [
    "# Augmented Dickey Fuller Test - To check time series data is stationary or not"
   ]
  },
  {
   "cell_type": "code",
   "execution_count": 71,
   "id": "c25fe229-01a4-47b4-8a0d-87c0a3bbc2ff",
   "metadata": {},
   "outputs": [],
   "source": [
    "from statsmodels.tsa.stattools import adfuller"
   ]
  },
  {
   "cell_type": "code",
   "execution_count": 73,
   "id": "1b2ef9c9-adb3-432b-b8fd-3ad0a0c9778c",
   "metadata": {},
   "outputs": [
    {
     "data": {
      "text/plain": [
       "(1.067663049228532,\n",
       " 0.9949309676406137,\n",
       " 0,\n",
       " 2358,\n",
       " {'1%': -3.4331262650681884,\n",
       "  '5%': -2.8627665066966537,\n",
       "  '10%': -2.5674229225037246},\n",
       " 16929.732322310592)"
      ]
     },
     "execution_count": 73,
     "metadata": {},
     "output_type": "execute_result"
    }
   ],
   "source": [
    "adfuller(df_final_model['Open'])"
   ]
  },
  {
   "cell_type": "code",
   "execution_count": 75,
   "id": "db13f27c-e756-4f9e-964b-82e6d21cac7d",
   "metadata": {},
   "outputs": [],
   "source": [
    "def check_adftest(timeseries):\n",
    "    result = adfuller(timeseries)\n",
    "    print(\"Augmented Dickey Fuller Test - To check data is Stationary or not\")\n",
    "    labels = ['ADF Stats', 'P-Values','#Lags', 'No of observation']\n",
    "    for i, j in zip(result, labels):\n",
    "        print(j + \" :-> \" + str(i))\n",
    "\n",
    "    if result[1] <=0.05:\n",
    "        print(\"Strong evidence against null hypothesis and my time series is Stationary\")\n",
    "    else:\n",
    "        print(\"Weak Evidence against null hypothes and my time series is Non-Stationary\")"
   ]
  },
  {
   "cell_type": "code",
   "execution_count": 77,
   "id": "81ad6e47-6a8a-4f3b-b282-c2d996039c65",
   "metadata": {},
   "outputs": [
    {
     "name": "stdout",
     "output_type": "stream",
     "text": [
      "Augmented Dickey Fuller Test - To check data is Stationary or not\n",
      "ADF Stats :-> 1.067663049228532\n",
      "P-Values :-> 0.9949309676406137\n",
      "#Lags :-> 0\n",
      "No of observation :-> 2358\n",
      "Weak Evidence against null hypothes and my time series is Non-Stationary\n"
     ]
    }
   ],
   "source": [
    "check_adftest(df_final_model['Open'])"
   ]
  },
  {
   "cell_type": "code",
   "execution_count": 97,
   "id": "cb93214b-da4b-45d9-b08f-1a3b5e996034",
   "metadata": {},
   "outputs": [],
   "source": [
    "df_final_model['1st Diff'] = df_final_model['Open'] - df_final_model['Open'].shift(1)"
   ]
  },
  {
   "cell_type": "code",
   "execution_count": 99,
   "id": "36216002-de32-42f8-8414-f8bd740b9db9",
   "metadata": {},
   "outputs": [
    {
     "data": {
      "text/html": [
       "<div>\n",
       "<style scoped>\n",
       "    .dataframe tbody tr th:only-of-type {\n",
       "        vertical-align: middle;\n",
       "    }\n",
       "\n",
       "    .dataframe tbody tr th {\n",
       "        vertical-align: top;\n",
       "    }\n",
       "\n",
       "    .dataframe thead th {\n",
       "        text-align: right;\n",
       "    }\n",
       "</style>\n",
       "<table border=\"1\" class=\"dataframe\">\n",
       "  <thead>\n",
       "    <tr style=\"text-align: right;\">\n",
       "      <th></th>\n",
       "      <th>Date</th>\n",
       "      <th>Open</th>\n",
       "      <th>High</th>\n",
       "      <th>Low</th>\n",
       "      <th>Close</th>\n",
       "      <th>Adj Close</th>\n",
       "      <th>Volume</th>\n",
       "      <th>1st Diff</th>\n",
       "    </tr>\n",
       "    <tr>\n",
       "      <th>Time_Stamp</th>\n",
       "      <th></th>\n",
       "      <th></th>\n",
       "      <th></th>\n",
       "      <th></th>\n",
       "      <th></th>\n",
       "      <th></th>\n",
       "      <th></th>\n",
       "      <th></th>\n",
       "    </tr>\n",
       "  </thead>\n",
       "  <tbody>\n",
       "    <tr>\n",
       "      <th>2015-01-01</th>\n",
       "      <td>2015-01-01</td>\n",
       "      <td>489.252289</td>\n",
       "      <td>494.149750</td>\n",
       "      <td>487.026154</td>\n",
       "      <td>493.160370</td>\n",
       "      <td>489.917236</td>\n",
       "      <td>944551</td>\n",
       "      <td>NaN</td>\n",
       "    </tr>\n",
       "    <tr>\n",
       "      <th>2015-02-01</th>\n",
       "      <td>2015-02-01</td>\n",
       "      <td>491.973083</td>\n",
       "      <td>511.909271</td>\n",
       "      <td>491.973083</td>\n",
       "      <td>506.368683</td>\n",
       "      <td>503.038696</td>\n",
       "      <td>4193093</td>\n",
       "      <td>2.720794</td>\n",
       "    </tr>\n",
       "    <tr>\n",
       "      <th>2015-05-01</th>\n",
       "      <td>2015-05-01</td>\n",
       "      <td>504.686737</td>\n",
       "      <td>520.417969</td>\n",
       "      <td>501.322815</td>\n",
       "      <td>518.241333</td>\n",
       "      <td>514.833252</td>\n",
       "      <td>6758676</td>\n",
       "      <td>12.713654</td>\n",
       "    </tr>\n",
       "    <tr>\n",
       "      <th>2015-06-01</th>\n",
       "      <td>2015-06-01</td>\n",
       "      <td>508.891632</td>\n",
       "      <td>508.891632</td>\n",
       "      <td>493.951874</td>\n",
       "      <td>496.079071</td>\n",
       "      <td>492.816742</td>\n",
       "      <td>7979598</td>\n",
       "      <td>4.204895</td>\n",
       "    </tr>\n",
       "    <tr>\n",
       "      <th>2015-07-01</th>\n",
       "      <td>2015-07-01</td>\n",
       "      <td>489.746979</td>\n",
       "      <td>495.089661</td>\n",
       "      <td>484.008514</td>\n",
       "      <td>488.609192</td>\n",
       "      <td>485.395966</td>\n",
       "      <td>9232656</td>\n",
       "      <td>-19.144653</td>\n",
       "    </tr>\n",
       "    <tr>\n",
       "      <th>...</th>\n",
       "      <td>...</td>\n",
       "      <td>...</td>\n",
       "      <td>...</td>\n",
       "      <td>...</td>\n",
       "      <td>...</td>\n",
       "      <td>...</td>\n",
       "      <td>...</td>\n",
       "      <td>...</td>\n",
       "    </tr>\n",
       "    <tr>\n",
       "      <th>2024-07-19</th>\n",
       "      <td>2024-07-19</td>\n",
       "      <td>1024.000000</td>\n",
       "      <td>1024.000000</td>\n",
       "      <td>986.650024</td>\n",
       "      <td>990.000000</td>\n",
       "      <td>990.000000</td>\n",
       "      <td>7400178</td>\n",
       "      <td>1.049988</td>\n",
       "    </tr>\n",
       "    <tr>\n",
       "      <th>2024-07-22</th>\n",
       "      <td>2024-07-22</td>\n",
       "      <td>990.000000</td>\n",
       "      <td>1008.000000</td>\n",
       "      <td>976.549988</td>\n",
       "      <td>1003.150024</td>\n",
       "      <td>1003.150024</td>\n",
       "      <td>7396198</td>\n",
       "      <td>-34.000000</td>\n",
       "    </tr>\n",
       "    <tr>\n",
       "      <th>2024-07-23</th>\n",
       "      <td>2024-07-23</td>\n",
       "      <td>1007.900024</td>\n",
       "      <td>1008.650024</td>\n",
       "      <td>967.200012</td>\n",
       "      <td>1001.799988</td>\n",
       "      <td>1001.799988</td>\n",
       "      <td>10384177</td>\n",
       "      <td>17.900024</td>\n",
       "    </tr>\n",
       "    <tr>\n",
       "      <th>2024-07-24</th>\n",
       "      <td>2024-07-24</td>\n",
       "      <td>997.799988</td>\n",
       "      <td>1034.250000</td>\n",
       "      <td>995.150024</td>\n",
       "      <td>1027.699951</td>\n",
       "      <td>1027.699951</td>\n",
       "      <td>11469098</td>\n",
       "      <td>-10.100036</td>\n",
       "    </tr>\n",
       "    <tr>\n",
       "      <th>2024-07-25</th>\n",
       "      <td>2024-07-25</td>\n",
       "      <td>1029.000000</td>\n",
       "      <td>1094.000000</td>\n",
       "      <td>1024.349976</td>\n",
       "      <td>1090.949951</td>\n",
       "      <td>1090.949951</td>\n",
       "      <td>32766835</td>\n",
       "      <td>31.200012</td>\n",
       "    </tr>\n",
       "  </tbody>\n",
       "</table>\n",
       "<p>2359 rows × 8 columns</p>\n",
       "</div>"
      ],
      "text/plain": [
       "                 Date         Open         High          Low        Close  \\\n",
       "Time_Stamp                                                                  \n",
       "2015-01-01 2015-01-01   489.252289   494.149750   487.026154   493.160370   \n",
       "2015-02-01 2015-02-01   491.973083   511.909271   491.973083   506.368683   \n",
       "2015-05-01 2015-05-01   504.686737   520.417969   501.322815   518.241333   \n",
       "2015-06-01 2015-06-01   508.891632   508.891632   493.951874   496.079071   \n",
       "2015-07-01 2015-07-01   489.746979   495.089661   484.008514   488.609192   \n",
       "...               ...          ...          ...          ...          ...   \n",
       "2024-07-19 2024-07-19  1024.000000  1024.000000   986.650024   990.000000   \n",
       "2024-07-22 2024-07-22   990.000000  1008.000000   976.549988  1003.150024   \n",
       "2024-07-23 2024-07-23  1007.900024  1008.650024   967.200012  1001.799988   \n",
       "2024-07-24 2024-07-24   997.799988  1034.250000   995.150024  1027.699951   \n",
       "2024-07-25 2024-07-25  1029.000000  1094.000000  1024.349976  1090.949951   \n",
       "\n",
       "              Adj Close    Volume   1st Diff  \n",
       "Time_Stamp                                    \n",
       "2015-01-01   489.917236    944551        NaN  \n",
       "2015-02-01   503.038696   4193093   2.720794  \n",
       "2015-05-01   514.833252   6758676  12.713654  \n",
       "2015-06-01   492.816742   7979598   4.204895  \n",
       "2015-07-01   485.395966   9232656 -19.144653  \n",
       "...                 ...       ...        ...  \n",
       "2024-07-19   990.000000   7400178   1.049988  \n",
       "2024-07-22  1003.150024   7396198 -34.000000  \n",
       "2024-07-23  1001.799988  10384177  17.900024  \n",
       "2024-07-24  1027.699951  11469098 -10.100036  \n",
       "2024-07-25  1090.949951  32766835  31.200012  \n",
       "\n",
       "[2359 rows x 8 columns]"
      ]
     },
     "execution_count": 99,
     "metadata": {},
     "output_type": "execute_result"
    }
   ],
   "source": [
    "df_final_model"
   ]
  },
  {
   "cell_type": "code",
   "execution_count": 103,
   "id": "679347be-21a9-45af-a6c3-2bb46e0a9680",
   "metadata": {},
   "outputs": [
    {
     "name": "stdout",
     "output_type": "stream",
     "text": [
      "Augmented Dickey Fuller Test - To check data is Stationary or not\n",
      "ADF Stats :-> -47.723753374898074\n",
      "P-Values :-> 0.0\n",
      "#Lags :-> 0\n",
      "No of observation :-> 2357\n",
      "Strong evidence against null hypothesis and my time series is Stationary\n"
     ]
    }
   ],
   "source": [
    "check_adftest(df_final_model['1st Diff'].dropna())"
   ]
  },
  {
   "cell_type": "code",
   "execution_count": null,
   "id": "f864fcc3-7215-4ad5-b6a1-0f915adf2be3",
   "metadata": {},
   "outputs": [],
   "source": []
  },
  {
   "cell_type": "code",
   "execution_count": 105,
   "id": "c4bcc958-a3b2-4466-a3be-cf894786c998",
   "metadata": {},
   "outputs": [
    {
     "name": "stdout",
     "output_type": "stream",
     "text": [
      "Start Date of Stock  : 2015-01-01 00:00:00\n",
      "End Data of the Stock : 2024-12-07 00:00:00\n"
     ]
    }
   ],
   "source": [
    "# split the data into train and test\n",
    "start_date = df_final_model.index.min()\n",
    "end_date = df_final_model.index.max()\n",
    "print(\"Start Date of Stock  :\", start_date)\n",
    "print(\"End Data of the Stock :\", end_date)"
   ]
  },
  {
   "cell_type": "code",
   "execution_count": 107,
   "id": "ea34e5ab-6523-4fae-8d8e-bf53efad6f72",
   "metadata": {},
   "outputs": [],
   "source": [
    "train = df_final_model[pd.to_datetime(df_final_model['Date']) < pd.to_datetime('2022-02-02')]\n",
    "test = df_final_model[pd.to_datetime(df_final_model['Date']) >= pd.to_datetime('2022-02-02')]"
   ]
  },
  {
   "cell_type": "code",
   "execution_count": 109,
   "id": "64bbcb2e-0f41-4175-8dd4-408e5ba506ce",
   "metadata": {},
   "outputs": [
    {
     "data": {
      "text/plain": [
       "((1748, 8), (611, 8))"
      ]
     },
     "execution_count": 109,
     "metadata": {},
     "output_type": "execute_result"
    }
   ],
   "source": [
    "train.shape, test.shape"
   ]
  },
  {
   "cell_type": "code",
   "execution_count": 111,
   "id": "e8f83f0e-2c8d-45e2-9547-24c15b879728",
   "metadata": {},
   "outputs": [],
   "source": [
    "train_final = train[['1st Diff']]\n",
    "test_final = test[['1st Diff']]"
   ]
  },
  {
   "cell_type": "code",
   "execution_count": 113,
   "id": "477a427b-e70f-409c-b744-a3990864d629",
   "metadata": {},
   "outputs": [
    {
     "data": {
      "text/html": [
       "<div>\n",
       "<style scoped>\n",
       "    .dataframe tbody tr th:only-of-type {\n",
       "        vertical-align: middle;\n",
       "    }\n",
       "\n",
       "    .dataframe tbody tr th {\n",
       "        vertical-align: top;\n",
       "    }\n",
       "\n",
       "    .dataframe thead th {\n",
       "        text-align: right;\n",
       "    }\n",
       "</style>\n",
       "<table border=\"1\" class=\"dataframe\">\n",
       "  <thead>\n",
       "    <tr style=\"text-align: right;\">\n",
       "      <th></th>\n",
       "      <th>1st Diff</th>\n",
       "    </tr>\n",
       "    <tr>\n",
       "      <th>Time_Stamp</th>\n",
       "      <th></th>\n",
       "    </tr>\n",
       "  </thead>\n",
       "  <tbody>\n",
       "    <tr>\n",
       "      <th>2015-01-01</th>\n",
       "      <td>NaN</td>\n",
       "    </tr>\n",
       "    <tr>\n",
       "      <th>2015-02-01</th>\n",
       "      <td>2.720794</td>\n",
       "    </tr>\n",
       "    <tr>\n",
       "      <th>2015-05-01</th>\n",
       "      <td>12.713654</td>\n",
       "    </tr>\n",
       "    <tr>\n",
       "      <th>2015-06-01</th>\n",
       "      <td>4.204895</td>\n",
       "    </tr>\n",
       "    <tr>\n",
       "      <th>2015-07-01</th>\n",
       "      <td>-19.144653</td>\n",
       "    </tr>\n",
       "    <tr>\n",
       "      <th>...</th>\n",
       "      <td>...</td>\n",
       "    </tr>\n",
       "    <tr>\n",
       "      <th>2022-01-07</th>\n",
       "      <td>-7.649994</td>\n",
       "    </tr>\n",
       "    <tr>\n",
       "      <th>2022-01-08</th>\n",
       "      <td>6.800018</td>\n",
       "    </tr>\n",
       "    <tr>\n",
       "      <th>2022-01-09</th>\n",
       "      <td>3.850006</td>\n",
       "    </tr>\n",
       "    <tr>\n",
       "      <th>2022-01-11</th>\n",
       "      <td>0.549988</td>\n",
       "    </tr>\n",
       "    <tr>\n",
       "      <th>2022-01-12</th>\n",
       "      <td>8.000000</td>\n",
       "    </tr>\n",
       "  </tbody>\n",
       "</table>\n",
       "<p>1748 rows × 1 columns</p>\n",
       "</div>"
      ],
      "text/plain": [
       "             1st Diff\n",
       "Time_Stamp           \n",
       "2015-01-01        NaN\n",
       "2015-02-01   2.720794\n",
       "2015-05-01  12.713654\n",
       "2015-06-01   4.204895\n",
       "2015-07-01 -19.144653\n",
       "...               ...\n",
       "2022-01-07  -7.649994\n",
       "2022-01-08   6.800018\n",
       "2022-01-09   3.850006\n",
       "2022-01-11   0.549988\n",
       "2022-01-12   8.000000\n",
       "\n",
       "[1748 rows x 1 columns]"
      ]
     },
     "execution_count": 113,
     "metadata": {},
     "output_type": "execute_result"
    }
   ],
   "source": [
    "train_final"
   ]
  },
  {
   "cell_type": "code",
   "execution_count": 115,
   "id": "a2b53c1b-1012-498d-9b7d-cecbe781af7b",
   "metadata": {},
   "outputs": [
    {
     "data": {
      "text/html": [
       "<div>\n",
       "<style scoped>\n",
       "    .dataframe tbody tr th:only-of-type {\n",
       "        vertical-align: middle;\n",
       "    }\n",
       "\n",
       "    .dataframe tbody tr th {\n",
       "        vertical-align: top;\n",
       "    }\n",
       "\n",
       "    .dataframe thead th {\n",
       "        text-align: right;\n",
       "    }\n",
       "</style>\n",
       "<table border=\"1\" class=\"dataframe\">\n",
       "  <thead>\n",
       "    <tr style=\"text-align: right;\">\n",
       "      <th></th>\n",
       "      <th>1st Diff</th>\n",
       "    </tr>\n",
       "    <tr>\n",
       "      <th>Time_Stamp</th>\n",
       "      <th></th>\n",
       "    </tr>\n",
       "  </thead>\n",
       "  <tbody>\n",
       "    <tr>\n",
       "      <th>2022-03-01</th>\n",
       "      <td>20.799988</td>\n",
       "    </tr>\n",
       "    <tr>\n",
       "      <th>2022-04-01</th>\n",
       "      <td>3.299988</td>\n",
       "    </tr>\n",
       "    <tr>\n",
       "      <th>2022-05-01</th>\n",
       "      <td>-9.849976</td>\n",
       "    </tr>\n",
       "    <tr>\n",
       "      <th>2022-06-01</th>\n",
       "      <td>-5.450012</td>\n",
       "    </tr>\n",
       "    <tr>\n",
       "      <th>2022-07-01</th>\n",
       "      <td>8.549988</td>\n",
       "    </tr>\n",
       "    <tr>\n",
       "      <th>...</th>\n",
       "      <td>...</td>\n",
       "    </tr>\n",
       "    <tr>\n",
       "      <th>2024-07-19</th>\n",
       "      <td>1.049988</td>\n",
       "    </tr>\n",
       "    <tr>\n",
       "      <th>2024-07-22</th>\n",
       "      <td>-34.000000</td>\n",
       "    </tr>\n",
       "    <tr>\n",
       "      <th>2024-07-23</th>\n",
       "      <td>17.900024</td>\n",
       "    </tr>\n",
       "    <tr>\n",
       "      <th>2024-07-24</th>\n",
       "      <td>-10.100036</td>\n",
       "    </tr>\n",
       "    <tr>\n",
       "      <th>2024-07-25</th>\n",
       "      <td>31.200012</td>\n",
       "    </tr>\n",
       "  </tbody>\n",
       "</table>\n",
       "<p>611 rows × 1 columns</p>\n",
       "</div>"
      ],
      "text/plain": [
       "             1st Diff\n",
       "Time_Stamp           \n",
       "2022-03-01  20.799988\n",
       "2022-04-01   3.299988\n",
       "2022-05-01  -9.849976\n",
       "2022-06-01  -5.450012\n",
       "2022-07-01   8.549988\n",
       "...               ...\n",
       "2024-07-19   1.049988\n",
       "2024-07-22 -34.000000\n",
       "2024-07-23  17.900024\n",
       "2024-07-24 -10.100036\n",
       "2024-07-25  31.200012\n",
       "\n",
       "[611 rows x 1 columns]"
      ]
     },
     "execution_count": 115,
     "metadata": {},
     "output_type": "execute_result"
    }
   ],
   "source": [
    "test_final"
   ]
  },
  {
   "cell_type": "code",
   "execution_count": 119,
   "id": "00af34f3-5e30-4723-a1d7-4c4115974a00",
   "metadata": {},
   "outputs": [
    {
     "name": "stdout",
     "output_type": "stream",
     "text": [
      "Augmented Dickey Fuller Test - To check data is Stationary or not\n",
      "ADF Stats :-> -13.288438058812034\n",
      "P-Values :-> 7.446364225718826e-25\n",
      "#Lags :-> 7\n",
      "No of observation :-> 1739\n",
      "Strong evidence against null hypothesis and my time series is Stationary\n"
     ]
    }
   ],
   "source": [
    "check_adftest(train_final['1st Diff'].dropna())"
   ]
  },
  {
   "cell_type": "code",
   "execution_count": 121,
   "id": "512c3068-ab8f-4b62-a540-b9451f9d0492",
   "metadata": {},
   "outputs": [
    {
     "name": "stdout",
     "output_type": "stream",
     "text": [
      "Augmented Dickey Fuller Test - To check data is Stationary or not\n",
      "ADF Stats :-> -10.418661136327966\n",
      "P-Values :-> 1.7275651153132242e-18\n",
      "#Lags :-> 6\n",
      "No of observation :-> 604\n",
      "Strong evidence against null hypothesis and my time series is Stationary\n"
     ]
    }
   ],
   "source": [
    "check_adftest(test_final['1st Diff'].dropna())"
   ]
  },
  {
   "cell_type": "code",
   "execution_count": null,
   "id": "d35502ed-e8c1-432a-a745-49d15bd86641",
   "metadata": {},
   "outputs": [],
   "source": []
  },
  {
   "cell_type": "code",
   "execution_count": null,
   "id": "85341f81-7635-4422-ba73-7d1f124b1c95",
   "metadata": {},
   "outputs": [],
   "source": []
  },
  {
   "cell_type": "code",
   "execution_count": null,
   "id": "ea75f408-0498-4c63-89de-53ac7ef61d87",
   "metadata": {},
   "outputs": [],
   "source": []
  }
 ],
 "metadata": {
  "kernelspec": {
   "display_name": "Python 3 (ipykernel)",
   "language": "python",
   "name": "python3"
  },
  "language_info": {
   "codemirror_mode": {
    "name": "ipython",
    "version": 3
   },
   "file_extension": ".py",
   "mimetype": "text/x-python",
   "name": "python",
   "nbconvert_exporter": "python",
   "pygments_lexer": "ipython3",
   "version": "3.12.4"
  }
 },
 "nbformat": 4,
 "nbformat_minor": 5
}
